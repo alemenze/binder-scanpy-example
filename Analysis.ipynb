{
 "cells": [
  {
   "cell_type": "markdown",
   "metadata": {},
   "source": [
    "# Scanpy Example Workflow\n",
    "This is a quick example of how to process single cell data using scanpy"
   ]
  },
  {
   "cell_type": "markdown",
   "metadata": {},
   "source": [
    "## Download the raw data\n",
    "The first step is to download the raw data from GEO. This is from a published paper and can be found at [GSE131059](https://www.ncbi.nlm.nih.gov/geo/query/acc.cgi?acc=GSE131059)\n",
    "\n",
    "Since this is older 10X data processed with cellranger v2- we also will need decompress the data. "
   ]
  },
  {
   "cell_type": "code",
   "execution_count": null,
   "metadata": {},
   "outputs": [],
   "source": [
    "%%bash\n",
    "wget 'https://ftp.ncbi.nlm.nih.gov/geo/samples/GSM3762nnn/GSM3762870/suppl/GSM3762870_Car1gfp_barcodes.tsv.gz' -P ./data/car1/\n",
    "wget 'https://ftp.ncbi.nlm.nih.gov/geo/samples/GSM3762nnn/GSM3762870/suppl/GSM3762870_Car1gfp_genes.tsv.gz' -P ./data/car1/\n",
    "wget 'https://ftp.ncbi.nlm.nih.gov/geo/samples/GSM3762nnn/GSM3762870/suppl/GSM3762870_Car1gfp_matrix.mtx.gz' -P ./data/car1/\n",
    "\n",
    "wget 'https://ftp.ncbi.nlm.nih.gov/geo/samples/GSM3762nnn/GSM3762869/suppl/GSM3762869_Naivebm_barcodes.tsv.gz' -P ./data/naive/\n",
    "wget 'https://ftp.ncbi.nlm.nih.gov/geo/samples/GSM3762nnn/GSM3762869/suppl/GSM3762869_Naivebm_genes.tsv.gz' -P ./data/naive/\n",
    "wget 'https://ftp.ncbi.nlm.nih.gov/geo/samples/GSM3762nnn/GSM3762869/suppl/GSM3762869_Naivebm_matrix.mtx.gz' -P ./data/naive/\n",
    "\n",
    "gzip -d ./data/car1/*.gz\n",
    "gzip -d ./data/naive/*.gz\n",
    "\n",
    "cd ./data/naive\n",
    "ls * | while read fn; do\n",
    "    mv \"${fn}\" \"${fn/GSM3762869_Naivebm_/}\";\n",
    "done\n",
    "\n",
    "cd ../car1/\n",
    "ls * | while read fn; do\n",
    "    mv \"${fn}\" \"${fn/GSM3762870_Car1gfp_/}\";\n",
    "done\n",
    "\n",
    "cd ../../"
   ]
  },
  {
   "cell_type": "markdown",
   "metadata": {},
   "source": [
    "## Import libraries\n",
    "Now we need to import the basic libraries we will be working with. These all should be included in the binder conda environment. "
   ]
  },
  {
   "cell_type": "code",
   "execution_count": null,
   "metadata": {},
   "outputs": [],
   "source": [
    "import numpy as np\n",
    "import scanpy as sc\n",
    "import pandas as pd\n",
    "import bbknn\n",
    "import anndata"
   ]
  },
  {
   "cell_type": "markdown",
   "metadata": {},
   "source": [
    "## Set up a few functions\n",
    "Next for ease, we can set up a few functions for processing the data. Since we would be using these repeatedly (and maybe one day for more samples than this project), its advised to set up functions. Use the minimal code you need to get the job done. "
   ]
  },
  {
   "cell_type": "code",
   "execution_count": null,
   "metadata": {},
   "outputs": [],
   "source": [
    "def LoadData(gex_path):\n",
    "    #Load the 10X files as matrix files\n",
    "    adata = sc.read_10x_mtx(gex_path, cache_compression = None, var_names='gene_symbols')\n",
    "    #Make the gene names unique in case of overlap\n",
    "    adata.var_names_make_unique()\n",
    "    return (adata)\n",
    "\n",
    "def BasicFiltering(adata):\n",
    "    #Quickly show the top 20 highest expressed genes\n",
    "    sc.pl.highest_expr_genes(adata, n_top=20,)\n",
    "\n",
    "    #Show the quick cell counts pre/post filtering\n",
    "    print(\"Before filtering:\", adata.n_obs, adata.n_vars)\n",
    "    sc.pp.filter_genes(adata, min_cells=3) # keep the genes which are expressed in min number of cells\n",
    "    sc.pp.filter_cells(adata, min_genes=200) # cells with min number of genes expressed\n",
    "    print(\"After filtering:\", adata.n_obs, adata.n_vars)\n",
    "\n",
    "    #Pull out the mitochondrial, ribosomal, and hemoglobin counts\n",
    "    #These patterns will have to change per species. IE mouse/human/rat etc. \n",
    "    adata.var['mt'] = adata.var_names.str.startswith('mt-')  \n",
    "    adata.var['ribo']=adata.var_names.str.startswith(('Rps','Rpl'))\n",
    "    adata.var['hemo']=adata.var_names.str.startswith(('^Hb[^(b)]'))\n",
    "    sc.pp.calculate_qc_metrics(adata, qc_vars=['mt','ribo','hemo'], percent_top=None, inplace=True, log1p=False)\n",
    "    sc.pl.violin(adata, ['n_genes_by_counts', 'total_counts', 'pct_counts_mt','pct_counts_ribo','pct_counts_hemo'], jitter=0.4, multi_panel=True)\n",
    "\n",
    "    #Remove cells with higher gene counts. These are putative doublets.\n",
    "    adata = adata[adata.obs.n_genes_by_counts < 5000, :]\n",
    "    print(\"Remaining cells after removing high number of genes %d\"%adata.n_obs)\n",
    "\n",
    "    #Likewise filter low counts. These are putative noise GEMs\n",
    "    adata = adata[adata.obs.n_genes_by_counts > 500, :]\n",
    "    print(\"Remaining cells after removing high number of genes %d\"%adata.n_obs)\n",
    "\n",
    "    #Filter based on mitochondrial counts. These are proxies for dead/dying cells. You can also filter for hemoglobin and ribosomal as well. \n",
    "    adata = adata[adata.obs.pct_counts_mt < 10, :] #10% mitochondrial contamination is a solid cutoff to start with. \n",
    "    print(\"Remaining cells afer removing mt %d\"%adata.n_obs)\n",
    "\n",
    "    #Perform the normalization\n",
    "    sc.pp.normalize_per_cell(adata, counts_per_cell_after=1000)\n",
    "    sc.pp.log1p(adata)\n",
    "\n",
    "    #Identify highly variable genes\n",
    "    sc.pp.highly_variable_genes(adata, min_mean=0.0125, max_mean=3, min_disp=0.5)\n",
    "    \n",
    "    #Two last steps real quick. First to regress out the variation caused by the mitochondrial, ribosomal, and hemoglobin counts\n",
    "    sc.pp.regress_out(adata, ['total_counts','pct_counts_mt','pct_counts_ribo','pct_counts_hemo'])\n",
    "    #And then scale the data appropriately. \n",
    "    sc.pp.scale(adata)\n",
    "    \n",
    "    return(adata)\n",
    "    \n",
    "def Clustering(adata):\n",
    "    sc.pp.pca(adata, svd_solver=\"arpack\")\n",
    "    sc.pp.neighbors(adata, n_neighbors=10, n_pcs=40)\n",
    "    sc.tl.umap(adata)\n",
    "    \n",
    "    # Standard Leiden clustering\n",
    "    sc.tl.leiden(adata)\n",
    "    sc.pl.umap(adata, color=['leiden'])\n",
    "    return (adata)"
   ]
  },
  {
   "cell_type": "markdown",
   "metadata": {},
   "source": [
    "## Load and process\n",
    "Once we have the functions built above, now we need to actually process the data. First we load each object, then add metadata tags, then perform basic filtering. "
   ]
  },
  {
   "cell_type": "code",
   "execution_count": null,
   "metadata": {},
   "outputs": [],
   "source": [
    "naive=LoadData('./data/naive/')\n",
    "naive.obs['sample']='Naive'\n",
    "naive=BasicFiltering(naive)\n",
    "\n",
    "car1=LoadData('./data/car1/')\n",
    "car1.obs['sample']='Car1'\n",
    "car1=BasicFiltering(car1)"
   ]
  },
  {
   "cell_type": "markdown",
   "metadata": {},
   "source": [
    "## Cluster the data\n",
    "Now with our filtered data, we can start to cluster it and see what populations are present. "
   ]
  },
  {
   "cell_type": "code",
   "execution_count": null,
   "metadata": {},
   "outputs": [],
   "source": [
    "naive=Clustering(naive)"
   ]
  },
  {
   "cell_type": "code",
   "execution_count": null,
   "metadata": {},
   "outputs": [],
   "source": [
    "car1=Clustering(car1)"
   ]
  },
  {
   "cell_type": "markdown",
   "metadata": {},
   "source": [
    "## Merge the datasets\n",
    "Since this is a Car1 KO vs Naive experiment, we would naturally want to see the differences between the two groupings. We can either merge the datasets or integrate them. First we will merge to see how they look in terms of batch effects. "
   ]
  },
  {
   "cell_type": "code",
   "execution_count": null,
   "metadata": {},
   "outputs": [],
   "source": [
    "var_names=naive.var_names.intersection(car1.var_names)\n",
    "naive=naive_treated[:,var_names]\n",
    "car1=car1[:,var_names]\n",
    "\n",
    "adata = naive.concatenate(car1)\n",
    "\n",
    "adata= Clustering(adata)\n",
    "\n",
    "#And an extra plot to show the batch differences\n",
    "sc.pl.umap(adata, color=['sample','leiden'])"
   ]
  },
  {
   "cell_type": "markdown",
   "metadata": {},
   "source": [
    "## Integrate\n",
    "Now that we can see the batch effects, we can integrate the samples and go from there. "
   ]
  },
  {
   "cell_type": "code",
   "execution_count": null,
   "metadata": {},
   "outputs": [],
   "source": [
    "sc.external.pp.bbknn(adata, batch_key='sample')\n",
    "\n",
    "sc.tl.umap(adata)\n",
    "sc.tl.leiden(adata)\n",
    "sc.pl.umap(adata, color=['sample', 'leiden'])"
   ]
  }
 ],
 "metadata": {
  "language_info": {
   "name": "python"
  },
  "orig_nbformat": 4
 },
 "nbformat": 4,
 "nbformat_minor": 2
}
