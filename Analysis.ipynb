{
 "cells": [
  {
   "cell_type": "code",
   "execution_count": null,
   "metadata": {},
   "outputs": [],
   "source": [
    "%%bash\n",
    "wget 'https://ftp.ncbi.nlm.nih.gov/geo/samples/GSM3762nnn/GSM3762870/suppl/GSM3762870_Car1gfp_barcodes.tsv.gz' -P ./data/car1/\n",
    "wget 'https://ftp.ncbi.nlm.nih.gov/geo/samples/GSM3762nnn/GSM3762870/suppl/GSM3762870_Car1gfp_genes.tsv.gz' -P ./data/car1/\n",
    "wget 'https://ftp.ncbi.nlm.nih.gov/geo/samples/GSM3762nnn/GSM3762870/suppl/GSM3762870_Car1gfp_matrix.mtx.gz' -P ./data/car1/\n",
    "\n",
    "wget 'https://ftp.ncbi.nlm.nih.gov/geo/samples/GSM3762nnn/GSM3762869/suppl/GSM3762869_Naivebm_barcodes.tsv.gz' -P ./data/naive/\n",
    "wget 'https://ftp.ncbi.nlm.nih.gov/geo/samples/GSM3762nnn/GSM3762869/suppl/GSM3762869_Naivebm_genes.tsv.gz' -P ./data/naive/\n",
    "wget 'https://ftp.ncbi.nlm.nih.gov/geo/samples/GSM3762nnn/GSM3762869/suppl/GSM3762869_Naivebm_matrix.mtx.gz' -P ./data/naive/\n",
    "\n",
    "gzip -d ./data/car1/*.gz\n",
    "gzip -d ./data/naive/*.gz"
   ]
  },
  {
   "cell_type": "code",
   "execution_count": null,
   "metadata": {},
   "outputs": [],
   "source": [
    "import numpy as np\n",
    "import scanpy as sc\n",
    "import pandas as pd\n",
    "import bbknn\n",
    "import anndata"
   ]
  },
  {
   "cell_type": "code",
   "execution_count": null,
   "metadata": {},
   "outputs": [],
   "source": [
    "def LoadData(gex_path):\n",
    "    adata = sc.read_10x_h5(gex_path, cache_compression = None, var_names='gene_symbols')\n",
    "    adata.var_names_make_unique()\n",
    "    return (adata)\n",
    "\n",
    "def BasicFiltering(adata):\n",
    "    sc.pl.highest_expr_genes(adata, n_top=20,)\n",
    "    print(\"Before filtering:\", adata.n_obs, adata.n_vars)\n",
    "    sc.pp.filter_genes(adata, min_cells=3) # keep the genes which are expressed in min number of cells\n",
    "    sc.pp.filter_cells(adata, min_genes=200) # cells with min number of genes expressed\n",
    "    print(\"After filtering:\", adata.n_obs, adata.n_vars)\n",
    "    adata.var['mt'] = adata.var_names.str.startswith('MT-')  \n",
    "    adata.var['ribo']=adata.var_names.str.startswith(('RPS','RPL'))\n",
    "    adata.var['hemo']=adata.var_names.str.startswith(('^HB[^(P)]'))\n",
    "    sc.pp.calculate_qc_metrics(adata, qc_vars=['mt','ribo','hemo'], percent_top=None, inplace=True, log1p=False)\n",
    "    sc.pl.violin(adata, ['n_genes_by_counts', 'total_counts', 'pct_counts_mt','pct_counts_ribo','pct_counts_hemo'], jitter=0.4, multi_panel=True)\n",
    "\n",
    "\n",
    "    adata = adata[adata.obs.n_genes_by_counts < 5000, :]\n",
    "    print(\"Remaining cells after removing high number of genes %d\"%adata.n_obs)\n",
    "\n",
    "    adata = adata[adata.obs.pct_counts_mt < 10, :] #10% mitochondrial contamination is a solid cutoff to start with. \n",
    "    print(\"Remaining cells afer removing mt %d\"%adata.n_obs)\n",
    "\n",
    "    sc.pp.normalize_per_cell(adata, counts_per_cell_after=1000)\n",
    "    sc.pp.log1p(adata)\n",
    "\n",
    "    sc.pp.highly_variable_genes(adata, min_mean=0.0125, max_mean=3, min_disp=0.5)\n",
    "    \n",
    "    #Two last steps real quick. First to regress out the variation caused by the mitochondrial, ribosomal, and hemoglobin counts\n",
    "    sc.pp.regress_out(adata, ['total_counts','pct_counts_mt','pct_counts_ribo','pct_counts_hemo'])\n",
    "    #And then scale the data appropriately. \n",
    "    sc.pp.scale(adata)\n",
    "    \n",
    "    return(adata)\n",
    "    \n",
    "def Clustering(adata):\n",
    "    sc.pp.pca(adata, svd_solver=\"arpack\")\n",
    "    sc.pp.neighbors(adata, n_neighbors=10, n_pcs=40)\n",
    "    sc.tl.umap(adata)\n",
    "    \n",
    "    # Standard Leiden clustering\n",
    "    sc.tl.leiden(adata)\n",
    "    sc.pl.umap(adata, color=['leiden'])\n",
    "    return (adata)"
   ]
  },
  {
   "cell_type": "code",
   "execution_count": null,
   "metadata": {},
   "outputs": [],
   "source": [
    "naive=LoadData('./data/naive/)\n",
    "naive.obs['sample']='Naive'\n",
    "naive=BasicFiltering(naive)\n",
    "\n",
    "car1=LoadData('./data/car1/)\n",
    "car1.obs['sample']='Car1'\n",
    "car1=BasicFiltering(car1)"
   ]
  },
  {
   "cell_type": "code",
   "execution_count": null,
   "metadata": {},
   "outputs": [],
   "source": [
    "naive=Clustering(naive)"
   ]
  },
  {
   "cell_type": "code",
   "execution_count": null,
   "metadata": {},
   "outputs": [],
   "source": [
    "car1=Clustering(car1)"
   ]
  },
  {
   "cell_type": "code",
   "execution_count": null,
   "metadata": {},
   "outputs": [],
   "source": [
    "var_names=naive.var_names.intersection(car1.var_names)\n",
    "naive=naive_treated[:,var_names]\n",
    "car1=car1[:,var_names]\n",
    "\n",
    "adata = naive.concatenate(car1)\n",
    "\n",
    "adata= Clustering(adata)\n",
    "\n",
    "#And an extra plot to show the batch differences\n",
    "sc.pl.umap(adata, color=['sample','leiden'])"
   ]
  },
  {
   "cell_type": "code",
   "execution_count": null,
   "metadata": {},
   "outputs": [],
   "source": [
    "sc.external.pp.bbknn(adata, batch_key='sample')\n",
    "\n",
    "sc.tl.umap(adata)\n",
    "sc.tl.leiden(adata)\n",
    "sc.pl.umap(adata, color=['sample', 'leiden'])"
   ]
  }
 ],
 "metadata": {
  "language_info": {
   "name": "python"
  },
  "orig_nbformat": 4
 },
 "nbformat": 4,
 "nbformat_minor": 2
}
